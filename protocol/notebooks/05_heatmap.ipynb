{
 "cells": [
  {
   "cell_type": "markdown",
   "metadata": {},
   "source": [
    "# **05. Plotting a heatmap to visualize the changes in deuterated fractions**"
   ]
  },
  {
   "cell_type": "code",
   "execution_count": null,
   "metadata": {},
   "outputs": [],
   "source": [
    "import numpy as np\n",
    "import matplotlib.pyplot as plt\n",
    "from pathlib import Path"
   ]
  },
  {
   "cell_type": "code",
   "execution_count": null,
   "metadata": {},
   "outputs": [],
   "source": [
    "# Matplotlib settings for plotting\n",
    "plt.rc('lines', linewidth=3, markersize=4)\n",
    "plt.rc('axes', labelweight='heavy', labelsize=22, titlesize=22) # Default fontsizes for printing\n",
    "plt.rc('axes.spines', top=False, right=False) # Switch off top/right axes\n",
    "plt.rc('legend', fontsize=16) # Default fontsizes for printing\n",
    "plt.rc('xtick', labelsize=16) # Default fontsizes for printing\n",
    "plt.rc('ytick', labelsize=16) # Default fontsizes for printing\n",
    "plt.rc('figure', titlesize=22, titleweight='heavy') # Default fontsizes for printing"
   ]
  },
  {
   "cell_type": "markdown",
   "metadata": {},
   "source": [
    "A heatmap is a useful plot to visualize the changes in deuterated fractions from reweighting for each residue and each time point.\n",
    "\n",
    "Using a heatmap, we can see which regions of proteins had the biggest changes in deuterated fractions more clearly than by overlaying the deuterated fractions on a line plot, as in notebook 4.\n",
    "\n",
    "This notebook describes how to plot a heatmap."
   ]
  },
  {
   "cell_type": "markdown",
   "metadata": {},
   "source": [
    "### **Script to sum segment averages and take differences (Reweighted - Predicted)**"
   ]
  },
  {
   "cell_type": "code",
   "execution_count": null,
   "metadata": {},
   "outputs": [],
   "source": [
    "# Setup variables\n",
    "p = Path.cwd()\n",
    "times = np.array([0.167, 1.0, 10.0, 120.0]) # Create a NumPy array with time points in minutes\n",
    "labels = (\"Reweighted\", \"Predicted\")\n",
    "runs = 1"
   ]
  },
  {
   "cell_type": "markdown",
   "metadata": {},
   "source": [
    "First, read in the deuterated fraction files from the **reweighting.py** output files and from the initial **calc_hdx.py** prediction output files before reweighting."
   ]
  },
  {
   "cell_type": "code",
   "execution_count": null,
   "metadata": {},
   "outputs": [],
   "source": [
    "# Import files\n",
    "results1 = []\n",
    "for run in range(1, runs+1):\n",
    "    results1.append(np.loadtxt(p.parent / 'reweighting' / 'BPTI_gamma_1x10^0_final_segment_fractions.dat', # Read in the reweighted deuterated fractions\n",
    "                               dtype=[('fracs', np.float64, (len(times),))]))\n",
    "    \n",
    "results2 = []\n",
    "for run in range(1, runs+1):\n",
    "    results2.append(np.loadtxt(p.parent / 'calc_hdx' / 'BPTI_SUMMARY_segment_average_fractions.dat', # Read in the predicted deuterated fractions\n",
    "                               usecols=[1,2,3,4,5], dtype=[('res', np.int32, (1,)), ('fracs', np.float64, (len(times),))]))"
   ]
  },
  {
   "cell_type": "markdown",
   "metadata": {},
   "source": [
    "Calculate the differences in deuterated fractions (Reweighted - Predicted)."
   ]
  },
  {
   "cell_type": "code",
   "execution_count": null,
   "metadata": {},
   "outputs": [],
   "source": [
    "mean1 = np.mean([_['fracs'] for _ in results1], axis=0)\n",
    "mean2 = np.mean([_['fracs'] for _ in results2], axis=0)\n",
    "\n",
    "diffs = mean1 - mean2"
   ]
  },
  {
   "cell_type": "markdown",
   "metadata": {},
   "source": [
    "Save the differences into a file (%s-%s_diffs.dat)."
   ]
  },
  {
   "cell_type": "code",
   "execution_count": null,
   "metadata": {},
   "outputs": [],
   "source": [
    "np.savetxt(\"%s-%s_diffs.dat\" % labels, np.concatenate((results2[0]['res'], diffs), axis=1), \\\n",
    "           fmt=\"%3d \" + \"%8.5f \"*4, header=\"ResID  Times / min: 0.167 1.0 10.0 120.0\")"
   ]
  },
  {
   "cell_type": "markdown",
   "metadata": {},
   "source": [
    "The \"%s-%s_diffs.dat\" file contains the residue-based deuterated fraction differences and residue numbers and can be used to recreate the plot without the links to the original data."
   ]
  },
  {
   "cell_type": "code",
   "execution_count": null,
   "metadata": {},
   "outputs": [],
   "source": [
    "results1 = np.loadtxt(\"%s-%s_diffs.dat\" % labels, dtype=[('res', np.int32, (1,))], usecols=(0,))\n",
    "diffs = np.loadtxt(\"%s-%s_diffs.dat\" % labels, usecols=(1,2,3,4))\n",
    "\n",
    "xs = results1['res'].flatten()\n",
    "\n",
    "# Make heatmap \n",
    "fig, axs = plt.subplots(1,1, figsize=(18, 12))\n",
    "\n",
    "img = axs.imshow(diffs.T, cmap='PiYG', aspect=5.0, vmin=-0.5, vmax=0.5, interpolation='none')\n",
    "axs.set_anchor('S')\n",
    "axs.set_xticks(range(len(xs)))\n",
    "axs.set_xticklabels(xs)\n",
    "axs.set_yticklabels(times)\n",
    "axs.set_yticks(list(range(len(times))))\n",
    "axs.set_ylabel(\"Time / min\")\n",
    "axs.set_title(\"Difference in predicted deuterated fractions, %s - %s\" % labels, y=1.12)\n",
    "#axs[0].set_xlabel(\"Residue\")\n",
    "\n",
    "# Set size & location of colorbar\n",
    "fig.subplots_adjust(bottom=0.1, top=0.75, left=0.1, right=0.8,\n",
    "                    wspace=0.02, hspace=0.16)\n",
    "cb_ax = fig.add_axes([0.83, 0.1, 0.02, 0.50])\n",
    "\n",
    "#divider = make_axes_locatable(axs[0])\n",
    "#cax0 = divider.append_axes(\"right\", size=\"5%\", pad=0.05)\n",
    "#cax0.set_aspect('auto')\n",
    "cbar = fig.colorbar(img, cax=cb_ax, ticks=np.arange(-0.5,0.75,0.25))\n",
    "cbar.ax.set_ylabel(r\"$\\Delta$ D$_f$\", rotation=270., labelpad=20)\n",
    "cbar.ax.tick_params(axis='both', which='both',length=0)\n",
    "cbar.outline.remove()\n"
   ]
  },
  {
   "cell_type": "markdown",
   "metadata": {},
   "source": [
    "At this point, more in-depth analysis of the appropriately-weighted structures present in the final ensemble can be carried out however you desire. In this case, the difference that reweighting makes to the final predicted deuterated fractions is relatively small, and not uniformly distributed across the entire protein. In particular, reweighting does not seem to affect the predicted deuteration between residues 19-35, some of which showed large discrepancies to the experimental target data initially. However, other regions of the protein appear to agree well with the target data.\n",
    "\n",
    "Given the extensive sampling of the 1ms BPTI trajectory, this may be a sign of inaccuracy in the 'Radou' forward model for these regions of BPTI. Further reweighing analyses, for example using an alternative forward model such as the Persson-Halle approach, would therefore be a sensible way forward to uncover the underlying factors governing the agreement of predicted and experimental HDX in BPTI. "
   ]
  }
 ],
 "metadata": {
  "kernelspec": {
   "display_name": "Python 3",
   "language": "python",
   "name": "python3"
  },
  "language_info": {
   "codemirror_mode": {
    "name": "ipython",
    "version": 3
   },
   "file_extension": ".py",
   "mimetype": "text/x-python",
   "name": "python",
   "nbconvert_exporter": "python",
   "pygments_lexer": "ipython3",
   "version": "3.7.6"
  }
 },
 "nbformat": 4,
 "nbformat_minor": 4
}
