{
 "cells": [
  {
   "cell_type": "markdown",
   "metadata": {},
   "source": [
    "# **01. Preparing data needed for calc_hdx and ensemble_modeling**"
   ]
  },
  {
   "cell_type": "code",
   "execution_count": null,
   "metadata": {},
   "outputs": [],
   "source": [
    "import numpy as np\n",
    "import pandas as pd\n",
    "import matplotlib.pyplot as plt\n",
    "from pathlib import Path"
   ]
  },
  {
   "cell_type": "code",
   "execution_count": null,
   "metadata": {},
   "outputs": [],
   "source": [
    "# Matplotlib settings for plotting\n",
    "plt.rc('lines', linewidth=3, markersize=4)\n",
    "plt.rc('axes', labelweight='heavy', labelsize=22, titlesize=22) # Default fontsizes for printing\n",
    "plt.rc('axes.spines', top=False, right=False) # Switch off top/right axes\n",
    "plt.rc('legend', fontsize=16) # Default fontsizes for printing\n",
    "plt.rc('xtick', labelsize=16) # Default fontsizes for printing\n",
    "plt.rc('ytick', labelsize=16) # Default fontsizes for printing\n",
    "plt.rc('figure', titlesize=22, titleweight='heavy') # Default fontsizes for printing"
   ]
  },
  {
   "cell_type": "markdown",
   "metadata": {},
   "source": [
    "Hydrogen-deuterium exchange (HDX) is a popular biophysical tool used to study the structure and dynamics of proteins in their native or near-native environments. Typically, HDX experiments are designed to measure the exchange of protein backbone amide hydrogen atoms for deuterium atoms from a bulk deuterated solution. The rate of H-D exchange is governed by chemical factors, such as steric and inductive effects of the neighboring sidechains upon the amide functional group, and by physical factors, such as structural and dynamical protection afforded by the equilibrium motions of the protein in solution. Measuring, comparing, and rationalizing rates of exchange can therefore provide insights into the structures and dynamics of proteins under a desired set of environmental conditions. The difference in the protein from H-D exchange can be measured directly by biophysical tools such as NMR, but most recently has been popularized with mass spectrometry (HDX-MS), which avoids many limitations of protein size, concentration, and throughput, associated with other experimental techniques."
   ]
  },
  {
   "cell_type": "markdown",
   "metadata": {},
   "source": [
    "***HDXer*** is a Python package designed to 1) Predict HDX exchange rates and observed HDX measurements from biomolecular simulation data, and 2) Aid the structural interpretation of HDX experiments _via_ a Maximum-Entropy-based reweighting of simulated ensembles to best fit experimental data. These two steps are divided into two separate Python wrapper scripts: **calc_hdx.py** and **reweighting.py**. Predicted HDX deuterated fractions of a given structural ensemble are calculated using **calc_hdx.py**. Then, if desired, the structural ensemble is reweighted to match up with experimental HDX data using **reweighting.py**.\n",
    "\n",
    "Given the vast range of software and approaches available to perform MD simulations and HDX experiments, the formats of structural ensembles and experimental HDX data may need to be pre-processed and standardized prior to using them with ***HDXer***. This notebook provides instructions on which data are needed, and how to process them."
   ]
  },
  {
   "cell_type": "markdown",
   "metadata": {},
   "source": [
    "There are four necessary data files to run ***HDXer***:\n",
    "- A protein structural ensembles (e.g. molecular dynamics trajectory)\n",
    "- A protein topology (e.g. a PDB file)\n",
    "- Experimental HDX data (as measured HDX deuterated fractions for defined peptide segments at specific timepoints)\n",
    "- A list of peptide segments with experimental HDX data"
   ]
  },
  {
   "cell_type": "markdown",
   "metadata": {},
   "source": [
    "We will use published data on BPTI (Bovine Pancreatic Trpysin Inhibitor) as an example system. BPTI is one of the smallest and simplest globular proteins, which provides us two advantages:\n",
    "\n",
    "1. HDX-MS data is collected for protein segments that are multiple residues in length. However, for BPTI, there is NMR-based HDX data available with single-residue resolution and a large coverage of the protein.\n",
    "\n",
    "[Persson, F. and Halle, B. (2015) ‘How amide hydrogens exchange in native proteins’, Proceedings of the National Academy of Sciences, 112(33), 10383-10388. doi: 10.1073/pnas.1506079112.](https://www.pnas.org/content/112/33/10383.long)\n",
    "\n",
    "[Kim, K.S., Fuchs, J.A., and Woodward, C.K. (1993) 'Hydrogen exchange identifies native-state motional domains important in protein folding', Biochemistry, 32(37), 9600-9608](https://pubs.acs.org/doi/abs/10.1021/bi00088a012)\n",
    "\n",
    "[Battiste, J.L., Li, R., and Woodward, C. (2002) 'A Highly Destabilizing Mutation, G37A, of the Bovine Pancreatic Trypsin Inhibitor Retains the Average Native Conformation but Greatly Increases Local Flexibility', Biochemistry, 41(7), 2237-2245](https://pubs.acs.org/doi/full/10.1021/bi011693e?mobileUi=0)\n",
    "\n",
    "2.  Equilibrium MD simulations are limited to short (microsecond) time scales, which can be shorter than the time required to sample important conformational changes in some proteins. For BPTI, an available millisecond-length MD trajectory provides extensive sampling of the equilibrium protein dynamics.\n",
    "\n",
    "[Shaw, D. E. et al. (2010) ‘Atomic-Level Characterization of the Structural Dynamics of Proteins’, Science, 330(6002), p. 341 LP-346. doi: 10.1126/science.1187409.](https://science.sciencemag.org/content/330/6002/341)\n"
   ]
  },
  {
   "cell_type": "markdown",
   "metadata": {},
   "source": [
    "We do not provide the full BPTI trajectory directly, and it is available from [D.E. Shaw Research](http://www.deshawresearch.com/downloads/download_trajectory.cgi/) if desired. Here, we go through steps to organize the structural ensembles and experimental HDX data, and in later notebooks we provide example data taken from the BPTI trajectory to exemplify ***HDXer*** analysis."
   ]
  },
  {
   "cell_type": "markdown",
   "metadata": {},
   "source": [
    "First, create a separate directory to store the input data files.\n",
    "\n",
    "For example, $BPTI_PATH = a parent directory for MD simulations and experimental HDX data of BPTI.\n",
    "\n",
    "To do so, take similar steps as you took to create $HDXER_PATH on terminal or Git for Windows."
   ]
  },
  {
   "cell_type": "code",
   "execution_count": 8,
   "metadata": {},
   "outputs": [],
   "source": [
    "%%bash\n",
    "echo -e \"\\nexport BPTI_PATH='${PWD}'\" >| ~/.BPTI_PATH_variable\n",
    "echo -e \"if [ -f ~/.BPTI_PATH_variable ]; then source ~/.BPTI_PATH_variable; fi\" >> ~/.bashrc\n",
    "echo -e \"if [ -f ~/.BPTI_PATH_variable ]; then source ~/.BPTI_PATH_variable; fi\" >> ~/.bash_profile"
   ]
  },
  {
   "cell_type": "markdown",
   "metadata": {},
   "source": [
    "```bash\n",
    "mkdir BPTI\n",
    "cd BPTI\n",
    "```\n",
    "\n",
    "```bash\n",
    "echo -e \"\\nexport BPTI_PATH='${PWD}'\" >> ~/.bashrc\n",
    "source ~/.bashrc\n",
    "```\n",
    "\n",
    "```bash\n",
    "echo -e \"\\nexport BPTI_PATH='${PWD}'\" >> ~/.bash_profile\n",
    "source ~/.bash_profile\n",
    "```"
   ]
  },
  {
   "cell_type": "markdown",
   "metadata": {},
   "source": [
    "If you have the full BPTI trajectory, create a subdirectory *structural_ensembles*. Store protein structural ensembles and protein topology files under *structural_ensembles*.\n",
    "\n",
    "```bash\n",
    "mkdir $BPTI_PATH/structural_ensembles\n",
    "```\n",
    "\n",
    "- $BPTI_PATH/structural_ensembles/BPTI_full.dcd (MD trajectory)\n",
    "\n",
    "- $BPTI_PATH/structural_ensembles/BPTI_full.pdb (topology)"
   ]
  },
  {
   "cell_type": "markdown",
   "metadata": {},
   "source": [
    "Create a subdirectory *expt_data*. Store experimental HDX data and residue segments files under *expt_data*.\n",
    "\n",
    "```bash\n",
    "mkdir $BPTI_PATH/expt_data\n",
    "```\n",
    "\n",
    "- $BPTI_PATH/expt_data/BPTI_expt_dfracs.dat (experimental HDX data)\n",
    "\n",
    "- $BPTI_PATH/expt_data/BPTI_residue_segs.txt (residue segments)"
   ]
  },
  {
   "cell_type": "markdown",
   "metadata": {},
   "source": [
    "The experimental HDX data for BPTI were first reported (in the articles above by Woodward and coworkers) as observed H-D exchange rate constants for each amide, measured by NMR. However, rate constants for individual residues were variously measured at different temperatures and pD values. Persson & Halle converted the observed rate constants to equivalent temperature and pH measurements, and then reported the same data as an experimental 'protection factor' for each residue. The protection factor (PF) is a unitless constant that describes the extent to which a residue's _intrinsic_ rate of exchange is modulated by the structure and dynamics of its environment. **HDXer** requires input experimental data formatted as peptide-segment deuterated fractions at given points in time, as this is the more frequent experimental observable from HDX-MS experiments. We must therefore convert these experimental protection factors to HDX deuterated fractions at given points in time. Let's first open and look at the original data."
   ]
  },
  {
   "cell_type": "code",
   "execution_count": null,
   "metadata": {},
   "outputs": [],
   "source": [
    "p = Path.cwd() # Set p as the current working directory"
   ]
  },
  {
   "cell_type": "code",
   "execution_count": null,
   "metadata": {},
   "outputs": [],
   "source": [
    "# Load experimental protection factors\n",
    "expt_data = p.parent / 'expt_data' / 'BPTI_expt_PFs.dat'\n",
    "expt_data = pd.read_csv(expt_data, sep='\\s+', skiprows=[0], header=None, names=['Residue', 'log10(PF)'])"
   ]
  },
  {
   "cell_type": "markdown",
   "metadata": {},
   "source": [
    "We can see how the experimental data is structured by looking at the first five rows. The first column is the residue number and the second column is the corresponding protection factor."
   ]
  },
  {
   "cell_type": "code",
   "execution_count": null,
   "metadata": {},
   "outputs": [],
   "source": [
    "expt_data.head()"
   ]
  },
  {
   "cell_type": "markdown",
   "metadata": {},
   "source": [
    "Using the equation below, we can convert these experimental constants to HDX deuterated fractions."
   ]
  },
  {
   "cell_type": "markdown",
   "metadata": {},
   "source": [
    "\\begin{equation*}\n",
    "D_{t} = 1 - exp(\\frac{-k_{int}}{P_{f}}t)\n",
    "\\end{equation*}"
   ]
  },
  {
   "cell_type": "markdown",
   "metadata": {},
   "source": [
    "Therefore, to convert the measured protection factors we still need two values, the intrinsic rate constants of exchange ($k_{int}$), and the time points at which we which to calculate deuteration (t).\n",
    "\n",
    "Converting from protection factors, we can choose any timepoints at all, but we will use the default time points that are used for HDX predictions by **calc_hdx.py**, ie. 0.167, 1.0, 10.0, 120.0 min."
   ]
  },
  {
   "cell_type": "code",
   "execution_count": null,
   "metadata": {},
   "outputs": [],
   "source": [
    "times = np.array([0.167, 1.0, 10.0, 120.0]) # Create a NumPy array with time points in min                                                                                                                                                                                                                           utes"
   ]
  },
  {
   "cell_type": "markdown",
   "metadata": {},
   "source": [
    "The intrinsic rate constants for each residue in BPTI depend upon the neighboring residues, and the temperature and pD of the reaction solution. In this case, we have used **calc_hdx.py** to generate a series of intrinsic exchange rate constants at pD 7.4 and 300 K. The details on how to run **calc_hdx.py** will be discussed in the next notebook.\n",
    "\n",
    "For now, let's read the intrinsic rates file, directly as one of the **calc_hdx.py** output files, and use it to calculate deuterated fractions."
   ]
  },
  {
   "cell_type": "code",
   "execution_count": null,
   "metadata": {},
   "outputs": [],
   "source": [
    "rates = pd.read_csv(p.parent / 'calc_hdx' / 'BPTI_Intrinsic_rates.dat', sep='\\s+', skiprows=[0], header=None, names=['Residue', 'k_int'])\n",
    "rates.head()"
   ]
  },
  {
   "cell_type": "markdown",
   "metadata": {},
   "source": [
    "We need to only select residues for which both protection factors and intrinsic rates are available."
   ]
  },
  {
   "cell_type": "code",
   "execution_count": null,
   "metadata": {},
   "outputs": [],
   "source": [
    "expt_data['k_int'] = rates[rates['Residue'].isin(expt_data['Residue'])]['k_int'].values\n",
    "expt_data.head()"
   ]
  },
  {
   "cell_type": "markdown",
   "metadata": {},
   "source": [
    "Now, we can calculate deuterated fractions for each residue and each time point using the function below:"
   ]
  },
  {
   "cell_type": "code",
   "execution_count": null,
   "metadata": {},
   "outputs": [],
   "source": [
    "def residue_fraction(pf, k, t):\n",
    "    \"\"\"Calculate deuterated fractions at time t using protection facotrs and intrinsic rates. \n",
    "    \n",
    "    Args:\n",
    "        pf: log10(PF)\n",
    "        k: intrinsic rate (min^-1)\n",
    "        t: time in minutes\n",
    "        \n",
    "    Returns:\n",
    "        val: HDX deuterated fractions for each residue and time point\n",
    "    \n",
    "    Usage: residue_fraction(rate, t)\n",
    "    \"\"\"\n",
    "    logf = (-k) / (10**pf) * t\n",
    "    val = 1 - np.exp(logf)\n",
    "    return val"
   ]
  },
  {
   "cell_type": "code",
   "execution_count": null,
   "metadata": {},
   "outputs": [],
   "source": [
    "dfracs = np.zeros((len(times), len(expt_data))) # Create a NumPy array with zeros which we will add deuterated fractions to\n",
    "\n",
    "for i, t in enumerate(times):\n",
    "    for j, (pf, k) in enumerate(zip(expt_data['log10(PF)'], expt_data['k_int'])):\n",
    "        dfracs[i, j] = residue_fraction(pf, k, t)"
   ]
  },
  {
   "cell_type": "code",
   "execution_count": null,
   "metadata": {},
   "outputs": [],
   "source": [
    "# Save HDX deuterated fractions, with 2 fields for residue start/end\n",
    "np.savetxt(p.parent / 'expt_data' / 'BPTI_expt_dfracs.dat', \\\n",
    "           np.concatenate((np.atleast_2d(expt_data['Residue'] - 1), np.atleast_2d(expt_data['Residue']), dfracs)).T, \\\n",
    "           fmt=\"%3d %3d %8.5f %8.5f %8.5f %8.5f\", \\\n",
    "           header=\"ResStr, ResEnd, Deuterated fractions, Times / min: %s\" \\\n",
    "           % ' '.join([ str(t) for t in times ]))"
   ]
  },
  {
   "cell_type": "markdown",
   "metadata": {},
   "source": [
    "Now we have a new file called *BPTI_expt_dfracs.dat* that contains experimental HDX data. Let's plot this to visualize what experimental HDX data looks like."
   ]
  },
  {
   "cell_type": "markdown",
   "metadata": {},
   "source": [
    "There are two Python functions used throughout the protocol to plot HDX deuterated fractions."
   ]
  },
  {
   "cell_type": "markdown",
   "metadata": {},
   "source": [
    "The first function reads in the file such as residue segments and HDX deuterated fractions."
   ]
  },
  {
   "cell_type": "code",
   "execution_count": null,
   "metadata": {},
   "outputs": [],
   "source": [
    "def read(file):\n",
    "    \"\"\"Read and create a pandas DataFrame for the given argument.\n",
    "    \n",
    "    Args:\n",
    "        file: There are four possible options:\n",
    "                'segs' - residue segments\n",
    "                'expt' - experimental HDX deuterated fractions\n",
    "                'pred' - predicted HDX deuterated fractions\n",
    "                'reweighted' - reweighted HDX deuterated fractions\n",
    "    \n",
    "    Returns:\n",
    "        df: A pandas DataFrame containing data for the given argument.\n",
    "    \"\"\"\n",
    "    if file == 'segs':\n",
    "        # Read and create a pandas DataFrame using a residue segments file\n",
    "        df = pd.read_csv(p.parent / 'expt_data' / 'BPTI_residue_segs.txt', \n",
    "                         sep='\\s+', header=None, names=['ResStr', 'ResEnd'])\n",
    "    elif file == 'expt':\n",
    "        # Read and create a pandas DataFrame using an experimental deuterated fractions file\n",
    "        df = pd.read_csv(p.parent / 'expt_data' / 'BPTI_expt_dfracs.dat', sep='\\s+', skiprows=[0], header=None, usecols=[2, 3, 4, 5], names=times)\n",
    "    elif file == 'pred':\n",
    "        # Read and create a pandas DataFrame using a predicted deuterated fractions file\n",
    "        df = pd.read_csv(p.parent / 'calc_hdx' / 'BPTI_SUMMARY_segment_average_fractions.dat', sep='\\s+', skiprows=[0], header=None, usecols=[2, 3, 4, 5], names=times)\n",
    "    elif file == 'reweighted':\n",
    "        df = pd.read_csv(p.parent / 'reweighting' / 'BPTI_gamma_1x10^0_final_segment_fractions.dat', sep='\\s+', skiprows=[0], header=None, names=times)\n",
    "    else:\n",
    "        print(\"Incorrect argument given. Please choose one of the following: 'segs' 'expt' 'pred' 'reweighted'\")\n",
    "    return df\n"
   ]
  },
  {
   "cell_type": "markdown",
   "metadata": {},
   "source": [
    "### **Plotting protection factors and intrinsic rates**"
   ]
  },
  {
   "cell_type": "markdown",
   "metadata": {},
   "source": [
    "We can use this function and data to plot protection factors and intrinsic rates."
   ]
  },
  {
   "cell_type": "code",
   "execution_count": null,
   "metadata": {},
   "outputs": [],
   "source": [
    "fig, ax = plt.subplots(figsize=(11, 8.5))\n",
    "xs = np.arange(0, read('segs').iloc[:, 1].shape[0])\n",
    "ax.plot(xs, expt_data['log10(PF)'])\n",
    "ax.set_title('BPTI log protection factor per residue')\n",
    "ax.set_xlabel('Residue')\n",
    "ax.set_ylabel('log$_{10}$PF')\n",
    "ax.set_xticks(xs)\n",
    "ax.set_xlim(xs[0], xs[-1])\n",
    "ax.set_xticklabels(read('segs').iloc[:, 1], rotation=90)\n",
    "plt.savefig(p.parent / 'expt_data' / 'BPTI_pf.png', dpi=300, bbox_inches='tight')\n"
   ]
  },
  {
   "cell_type": "code",
   "execution_count": null,
   "metadata": {},
   "outputs": [],
   "source": [
    "fig, ax = plt.subplots(figsize=(11, 8.5))\n",
    "xs = np.arange(0, read('segs').iloc[:, 1].shape[0])\n",
    "ax.plot(xs, expt_data['k_int'])\n",
    "ax.set_title('BPTI intrinsic rate per residue')\n",
    "ax.set_xlabel('Residue')\n",
    "ax.set_ylabel('Intrinsic rate')\n",
    "ax.set_xticks(xs)\n",
    "ax.set_xlim(xs[0], xs[-1])\n",
    "ax.set_xticklabels(read('segs').iloc[:, 1], rotation=90);\n",
    "plt.savefig(p.parent / 'expt_data' / 'BPTI_k_int.png', dpi=300, bbox_inches='tight')\n"
   ]
  },
  {
   "cell_type": "markdown",
   "metadata": {},
   "source": [
    "The second function plots HDX deuterated fractions for each time point."
   ]
  },
  {
   "cell_type": "code",
   "execution_count": null,
   "metadata": {},
   "outputs": [],
   "source": [
    "def plot_dfracs(*args):\n",
    "    \"\"\"Plot HDX deuterated fractions for each time point.\n",
    "    \n",
    "    Args:\n",
    "        *args: \n",
    "            'expt' - experimental HDX deuterated fractions\n",
    "            'pred' - predicted HDX deuterated fractions\n",
    "            'reweighted' - reweighted HDX deuterated fractions\n",
    "    \"\"\"\n",
    "    fig, axs = plt.subplots(len(times), 1, figsize=(12, 24))\n",
    "    for i, (ax, t) in enumerate(zip(axs, times)):\n",
    "        for arg in args:\n",
    "            if arg in ['expt', 'pred', 'reweighted']:\n",
    "                xs = np.arange(0, read(arg).iloc[:, 1].shape[0])\n",
    "                ax.plot(xs, read(arg).iloc[:, i], label=arg)\n",
    "                ax.set_title(f'Time = {t} min')\n",
    "                ax.legend(loc='upper right')\n",
    "                ax.set_xticks(xs)\n",
    "                ax.set_xlim(xs[0], xs[-1])\n",
    "                ax.set_xticklabels(read('segs').iloc[:, 1], rotation=90)\n",
    "                ax.set_ylim(0, 1)\n",
    "            else:\n",
    "                print(\"Incorrect argument given. Please choose one or more of the following: 'expt' 'pred' 'reweighted'\")\n",
    "    fig.text(0.5, 0.095, 'Residue', ha='center', fontsize=22)\n",
    "    fig.text(0.05, 0.5, 'HDX deuterated fractions', va='center', rotation='vertical', fontsize=22)\n"
   ]
  },
  {
   "cell_type": "code",
   "execution_count": null,
   "metadata": {},
   "outputs": [],
   "source": [
    "plot_dfracs('expt')"
   ]
  },
  {
   "cell_type": "markdown",
   "metadata": {},
   "source": [
    "We have organized directories and experimental HDX data converted to deuterated fractions. We can now predict HDX deuterated fractions from the BPTI MD trajectory in the next notebook *02_calc_hdx.ipynb*."
   ]
  }
 ],
 "metadata": {
  "kernelspec": {
   "display_name": "Python 3",
   "language": "python",
   "name": "python3"
  },
  "language_info": {
   "codemirror_mode": {
    "name": "ipython",
    "version": 3
   },
   "file_extension": ".py",
   "mimetype": "text/x-python",
   "name": "python",
   "nbconvert_exporter": "python",
   "pygments_lexer": "ipython3",
   "version": "3.7.6"
  }
 },
 "nbformat": 4,
 "nbformat_minor": 4
}
