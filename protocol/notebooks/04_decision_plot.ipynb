{
 "cells": [
  {
   "cell_type": "markdown",
   "metadata": {},
   "source": [
    "# **04. Plotting a Decision Plot**"
   ]
  },
  {
   "cell_type": "code",
   "execution_count": null,
   "metadata": {},
   "outputs": [],
   "source": [
    "import numpy as np\n",
    "import pandas as pd\n",
    "import matplotlib.pyplot as plt\n",
    "import glob\n",
    "from pathlib import Path"
   ]
  },
  {
   "cell_type": "code",
   "execution_count": null,
   "metadata": {},
   "outputs": [],
   "source": [
    "# Matplotlib settings for plotting\n",
    "plt.rc('lines', linewidth=3, markersize=4)\n",
    "plt.rc('axes', labelweight='heavy', labelsize=22, titlesize=22) # Default fontsizes for printing\n",
    "plt.rc('axes.spines', top=False, right=False) # Switch off top/right axes\n",
    "plt.rc('legend', fontsize=16) # Default fontsizes for printing\n",
    "plt.rc('xtick', labelsize=16) # Default fontsizes for printing\n",
    "plt.rc('ytick', labelsize=16) # Default fontsizes for printing\n",
    "plt.rc('figure', titlesize=22, titleweight='heavy') # Default fontsizes for printing"
   ]
  },
  {
   "cell_type": "markdown",
   "metadata": {},
   "source": [
    "Once HDX reweighting with a diverse range of gamma is complete, we can plot a decision plot, also know as an 'L-curve' using HDX reweighting output files. The shape of an 'L-curve' plot can aid the our decision of which gamma is reasonable without inducing overfitting. \n",
    "\n",
    "Choosing a reasonable gamma is important as it informs us which set of reweighting data to use for further analyses. \n",
    "\n",
    "This notebook describes how to plot a decision plot and analyze it."
   ]
  },
  {
   "cell_type": "markdown",
   "metadata": {},
   "source": [
    "### **Reading in HDX reweighting work output files to plot an L-curve**"
   ]
  },
  {
   "cell_type": "code",
   "execution_count": null,
   "metadata": {},
   "outputs": [],
   "source": [
    "p = Path.cwd() # Set p as the current working directory"
   ]
  },
  {
   "cell_type": "code",
   "execution_count": null,
   "metadata": {},
   "outputs": [],
   "source": [
    "def plot_lcurve(title):\n",
    "    li = []\n",
    "    for i in np.arange(-3, 1): # Select the range of gamma (i in j*10^i)\n",
    "        for j in np.arange(1, 10): # Select the range of gamma (j in j*10^i)\n",
    "            # Read files containing work values from the smallest to the biggest gamma\n",
    "            try:\n",
    "                work = p.parent / 'reweighting' / f'BPTI_gamma_{j}x10^{i}_work.dat' \n",
    "                df = pd.read_csv(work, comment='#', header=None, sep='\\s+')\n",
    "                li.append(df)\n",
    "            except pd.errors.EmptyDataError:\n",
    "                pass\n",
    "    works = pd.concat(li, axis=0, ignore_index=True) \n",
    "    works.columns = ['gamma', 'chisquare', 'work']\n",
    "    \n",
    "    plt.figure(figsize=(11, 8.5))\n",
    "    plt.plot(works['chisquare'], works['work'], color='teal', linewidth=3, markersize=10, marker='o')\n",
    "    gamma_1_x = works[works['gamma'] == 1.0]['chisquare']\n",
    "    gamma_1_y = works[works['gamma'] == 1.0]['work']\n",
    "    plt.annotate(\"Gamma = 1.0\", xy=(gamma_1_x, gamma_1_y), xytext=(gamma_1_x + 0.005, gamma_1_y + 2.0),\n",
    "                 arrowprops=dict(facecolor='black', shrink=0.05), size=12 )\n",
    "    plt.title(title)\n",
    "    plt.xlabel('MSD to target data')\n",
    "    plt.ylabel('W$_{app}$ / kJ mol$^{-1}$')"
   ]
  },
  {
   "cell_type": "markdown",
   "metadata": {},
   "source": [
    "### **Plotting and analyzing an L-curve**"
   ]
  },
  {
   "cell_type": "code",
   "execution_count": null,
   "metadata": {},
   "outputs": [],
   "source": [
    "plot_lcurve('L-curve for the BPTI MD trajectory')"
   ]
  },
  {
   "cell_type": "markdown",
   "metadata": {},
   "source": [
    "Overfitting, in the context of HDX reweighting, implies a final structural ensemble that is fit too closely to the target HDX data, beyond the true level of uncertainty present. Overfitting would therefore result in an unreliable model of the true structural ensemble. This can also be thought of as 'fitting to noise', where the 'noise' can stem from either experimental, forward model, or sampling inadequacies, as discussed in notebook 3.\n",
    "\n",
    "'Fitting to noise' can also be identified as a situation in which the accuracy of the fitted model becomes insensitive to large changes in the underlying model parameters - in this case the weights of each frame in the ensemble. This may be simply characterized as a reweighting that results in a large increase in applied bias (apparent work), for little improvement in accuracy to the target data.\n",
    "\n",
    "A sensible strategy to choose a suitable gamma value is therefore to plot the apparent work applied during each reweighting experiment, against the mean square deviation between the final predicted and target data, and to look for a sharp increase in work. An additional cutoff metric can be applied to the work value to keep the applied bias within a reasonable range (say, 2-3 $k_BT$. Here, we keep the work value below 3 kJ mol$^{-1}$. \n",
    "\n",
    "Here we chose a gamma value of $1*10^0$ based on the plot above."
   ]
  },
  {
   "cell_type": "markdown",
   "metadata": {},
   "source": [
    "### **Plotting deuterated fractions**"
   ]
  },
  {
   "cell_type": "markdown",
   "metadata": {},
   "source": [
    "Now, let's visualize reweighted HDX deuterated fractions together with experimental and predicted HDX deuterated fractions."
   ]
  },
  {
   "cell_type": "code",
   "execution_count": null,
   "metadata": {},
   "outputs": [],
   "source": [
    "times = np.array([0.167, 1.0, 10.0, 120.0]) # Create a NumPy array with time points in minutes"
   ]
  },
  {
   "cell_type": "code",
   "execution_count": null,
   "metadata": {},
   "outputs": [],
   "source": [
    "def read(file):\n",
    "    \"\"\"Read and create a pandas DataFrame for the given argument.\n",
    "    \n",
    "    Args:\n",
    "        file: There are four possible options:\n",
    "                'segs' - residue segments\n",
    "                'expt' - experimental HDX deuterated fractions\n",
    "                'pred' - predicted HDX deuterated fractions\n",
    "                'reweighted' - reweighted HDX deuterated fractions\n",
    "    \n",
    "    Returns:\n",
    "        df: A pandas DataFrame containing data for the given argument.\n",
    "    \"\"\"\n",
    "    if file == 'segs':\n",
    "        # Read and create a pandas DataFrame using a residue segments file\n",
    "        df = pd.read_csv(p.parent / 'expt_data' / 'BPTI_residue_segs.txt', \n",
    "                         sep='\\s+', header=None, names=['ResStr', 'ResEnd'])\n",
    "    elif file == 'expt':\n",
    "        # Read and create a pandas DataFrame using an experimental deuterated fractions file\n",
    "        df = pd.read_csv(p.parent / 'expt_data' / 'BPTI_expt_dfracs.dat', sep='\\s+', skiprows=[0], header=None, usecols=[2, 3, 4, 5], names=times)\n",
    "    elif file == 'pred':\n",
    "        # Read and create a pandas DataFrame using a predicted deuterated fractions file\n",
    "        df = pd.read_csv(p.parent / 'calc_hdx' / 'BPTI_SUMMARY_segment_average_fractions.dat', sep='\\s+', skiprows=[0], header=None, usecols=[2, 3, 4, 5], names=times)\n",
    "    elif file == 'reweighted':\n",
    "        df = pd.read_csv(p.parent / 'reweighting' / 'BPTI_gamma_1x10^0_final_segment_fractions.dat', sep='\\s+', skiprows=[0], header=None, names=times)\n",
    "    else:\n",
    "        print(\"Incorrect argument given. Please choose one of the following: 'segs' 'expt' 'pred' 'reweighted'\")\n",
    "    return df\n"
   ]
  },
  {
   "cell_type": "code",
   "execution_count": null,
   "metadata": {},
   "outputs": [],
   "source": [
    "def plot_dfracs(*args):\n",
    "    \"\"\"Plot HDX deuterated fractions for each time point.\n",
    "    \n",
    "    Args:\n",
    "        *args: \n",
    "            'expt' - experimental HDX deuterated fractions\n",
    "            'pred' - predicted HDX deuterated fractions\n",
    "            'reweighted' - reweighted HDX deuterated fractions\n",
    "    \"\"\"\n",
    "    fig, axs = plt.subplots(len(times), 1, figsize=(12, 24))\n",
    "    for i, (ax, t) in enumerate(zip(axs, times)):\n",
    "        for arg in args:\n",
    "            if arg in ['expt', 'pred', 'reweighted']:\n",
    "                xs = np.arange(0, read(arg).iloc[:, 1].shape[0])\n",
    "                ax.plot(xs, read(arg).iloc[:, i], label=arg)\n",
    "                ax.set_title(f'Time = {t} min')\n",
    "                ax.legend(loc='upper right')\n",
    "                ax.set_xticks(xs)\n",
    "                ax.set_xlim(xs[0], xs[-1])\n",
    "                ax.set_xticklabels(read('segs').iloc[:, 1], rotation=90)\n",
    "                ax.set_ylim(0, 1)\n",
    "            else:\n",
    "                print(\"Incorrect argument given. Please choose one or more of the following: 'expt' 'pred' 'reweighted'\")\n",
    "    fig.text(0.5, 0.095, 'Residue', ha='center', fontsize=22)\n",
    "    fig.text(0.05, 0.5, 'HDX deuterated fractions', va='center', rotation='vertical', fontsize=22)\n"
   ]
  },
  {
   "cell_type": "code",
   "execution_count": null,
   "metadata": {},
   "outputs": [],
   "source": [
    "plot_dfracs('expt', 'pred', 'reweighted')"
   ]
  },
  {
   "cell_type": "markdown",
   "metadata": {},
   "source": [
    "This plot got messy! Let's visualize this using a heatmap, which allows us to see the changes in deueterated fractions for each residue. This will be shown in the next notebook *05_heatmap.ipynb*."
   ]
  }
 ],
 "metadata": {
  "kernelspec": {
   "display_name": "Python 3",
   "language": "python",
   "name": "python3"
  },
  "language_info": {
   "codemirror_mode": {
    "name": "ipython",
    "version": 3
   },
   "file_extension": ".py",
   "mimetype": "text/x-python",
   "name": "python",
   "nbconvert_exporter": "python",
   "pygments_lexer": "ipython3",
   "version": "3.7.6"
  }
 },
 "nbformat": 4,
 "nbformat_minor": 4
}
